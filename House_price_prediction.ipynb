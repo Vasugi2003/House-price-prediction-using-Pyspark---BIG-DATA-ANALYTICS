{
  "nbformat": 4,
  "nbformat_minor": 0,
  "metadata": {
    "colab": {
      "provenance": [],
      "include_colab_link": true
    },
    "kernelspec": {
      "name": "python3",
      "display_name": "Python 3"
    },
    "language_info": {
      "name": "python"
    }
  },
  "cells": [
    {
      "cell_type": "markdown",
      "metadata": {
        "id": "view-in-github",
        "colab_type": "text"
      },
      "source": [
        "<a href=\"https://colab.research.google.com/github/Vasugi2003/House-price-prediction-using-Pyspark---BIG-DATA-ANALYTICS/blob/main/House_price_prediction.ipynb\" target=\"_parent\"><img src=\"https://colab.research.google.com/assets/colab-badge.svg\" alt=\"Open In Colab\"/></a>"
      ]
    },
    {
      "cell_type": "code",
      "execution_count": null,
      "metadata": {
        "colab": {
          "base_uri": "https://localhost:8080/"
        },
        "id": "kbptqLOGDDu7",
        "outputId": "2918d7f1-8a80-42bc-ea5f-b24e2a0ec1b2"
      },
      "outputs": [
        {
          "output_type": "stream",
          "name": "stdout",
          "text": [
            "Collecting pyspark\n",
            "  Downloading pyspark-3.5.0.tar.gz (316.9 MB)\n",
            "\u001b[2K     \u001b[90m━━━━━━━━━━━━━━━━━━━━━━━━━━━━━━━━━━━━━━━━\u001b[0m \u001b[32m316.9/316.9 MB\u001b[0m \u001b[31m2.7 MB/s\u001b[0m eta \u001b[36m0:00:00\u001b[0m\n",
            "\u001b[?25h  Preparing metadata (setup.py) ... \u001b[?25l\u001b[?25hdone\n",
            "Requirement already satisfied: py4j==0.10.9.7 in /usr/local/lib/python3.10/dist-packages (from pyspark) (0.10.9.7)\n",
            "Building wheels for collected packages: pyspark\n",
            "  Building wheel for pyspark (setup.py) ... \u001b[?25l\u001b[?25hdone\n",
            "  Created wheel for pyspark: filename=pyspark-3.5.0-py2.py3-none-any.whl size=317425344 sha256=cb1ded51cbe3b9374db9d81e3711bb4853cdd8eac5ea8e1d355ddbf5746fd19d\n",
            "  Stored in directory: /root/.cache/pip/wheels/41/4e/10/c2cf2467f71c678cfc8a6b9ac9241e5e44a01940da8fbb17fc\n",
            "Successfully built pyspark\n",
            "Installing collected packages: pyspark\n",
            "Successfully installed pyspark-3.5.0\n"
          ]
        }
      ],
      "source": [
        "!pip install pyspark"
      ]
    },
    {
      "cell_type": "code",
      "source": [
        "from pyspark.ml import Pipeline\n",
        "from pyspark.ml.feature import StringIndexer, VectorAssembler\n",
        "from pyspark.ml.classification import DecisionTreeClassifier\n",
        "from pyspark.sql import SparkSession\n",
        "from pyspark.sql.types import IntegerType\n",
        "import pyspark.sql.functions as F\n",
        "from pyspark.ml.evaluation import MulticlassClassificationEvaluator"
      ],
      "metadata": {
        "id": "WE6FlM3ODFk3"
      },
      "execution_count": null,
      "outputs": []
    },
    {
      "cell_type": "code",
      "source": [
        "spark = SparkSession.builder.appName(\"HousePriceClassification\").getOrCreate()"
      ],
      "metadata": {
        "id": "GRQn5AxfDPI_"
      },
      "execution_count": null,
      "outputs": []
    },
    {
      "cell_type": "code",
      "source": [
        "filepath = \"/content/houseprice.csv\"\n",
        "df = spark.read.csv(filepath, header=True, inferSchema=True)\n",
        "df.show()"
      ],
      "metadata": {
        "colab": {
          "base_uri": "https://localhost:8080/"
        },
        "id": "ePOmf6p7DPNX",
        "outputId": "706c2ede-fa43-42a7-c0b7-7b8a5b90b897"
      },
      "execution_count": null,
      "outputs": [
        {
          "output_type": "stream",
          "name": "stdout",
          "text": [
            "+-------------------+---------+--------+---------+-----------+--------+------+----------+----+---------+----------+-------------+--------+------------+--------------------+----------------+--------+-------+\n",
            "|               date|    price|bedrooms|bathrooms|sqft_living|sqft_lot|floors|waterfront|view|condition|sqft_above|sqft_basement|yr_built|yr_renovated|              street|            city|statezip|country|\n",
            "+-------------------+---------+--------+---------+-----------+--------+------+----------+----+---------+----------+-------------+--------+------------+--------------------+----------------+--------+-------+\n",
            "|2014-05-02 00:00:00| 313000.0|     3.0|      1.5|       1340|    7912|   1.5|         0|   0|        3|      1340|            0|    1955|        2005|18810 Densmore Ave N|       Shoreline|WA 98133|    USA|\n",
            "|2014-05-02 00:00:00|2384000.0|     5.0|      2.5|       3650|    9050|   2.0|         0|   4|        5|      3370|          280|    1921|           0|     709 W Blaine St|         Seattle|WA 98119|    USA|\n",
            "|2014-05-02 00:00:00| 342000.0|     3.0|      2.0|       1930|   11947|   1.0|         0|   0|        4|      1930|            0|    1966|           0|26206-26214 143rd...|            Kent|WA 98042|    USA|\n",
            "|2014-05-02 00:00:00| 420000.0|     3.0|     2.25|       2000|    8030|   1.0|         0|   0|        4|      1000|         1000|    1963|           0|     857 170th Pl NE|        Bellevue|WA 98008|    USA|\n",
            "|2014-05-02 00:00:00| 550000.0|     4.0|      2.5|       1940|   10500|   1.0|         0|   0|        4|      1140|          800|    1976|        1992|   9105 170th Ave NE|         Redmond|WA 98052|    USA|\n",
            "|2014-05-02 00:00:00| 490000.0|     2.0|      1.0|        880|    6380|   1.0|         0|   0|        3|       880|            0|    1938|        1994|      522 NE 88th St|         Seattle|WA 98115|    USA|\n",
            "|2014-05-02 00:00:00| 335000.0|     2.0|      2.0|       1350|    2560|   1.0|         0|   0|        3|      1350|            0|    1976|           0|   2616 174th Ave NE|         Redmond|WA 98052|    USA|\n",
            "|2014-05-02 00:00:00| 482000.0|     4.0|      2.5|       2710|   35868|   2.0|         0|   0|        3|      2710|            0|    1989|           0|   23762 SE 253rd Pl|    Maple Valley|WA 98038|    USA|\n",
            "|2014-05-02 00:00:00| 452500.0|     3.0|      2.5|       2430|   88426|   1.0|         0|   0|        4|      1570|          860|    1985|           0|46611-46625 SE 12...|      North Bend|WA 98045|    USA|\n",
            "|2014-05-02 00:00:00| 640000.0|     4.0|      2.0|       1520|    6200|   1.5|         0|   0|        3|      1520|            0|    1945|        2010|    6811 55th Ave NE|         Seattle|WA 98115|    USA|\n",
            "|2014-05-02 00:00:00| 463000.0|     3.0|     1.75|       1710|    7320|   1.0|         0|   0|        3|      1710|            0|    1948|        1994|  Burke-Gilman Trail|Lake Forest Park|WA 98155|    USA|\n",
            "|2014-05-02 00:00:00|1400000.0|     4.0|      2.5|       2920|    4000|   1.5|         0|   0|        5|      1910|         1010|    1909|        1988|3838-4098 44th Av...|         Seattle|WA 98105|    USA|\n",
            "|2014-05-02 00:00:00| 588500.0|     3.0|     1.75|       2330|   14892|   1.0|         0|   0|        3|      1970|          360|    1980|           0|    1833 220th Pl NE|       Sammamish|WA 98074|    USA|\n",
            "|2014-05-02 00:00:00| 365000.0|     3.0|      1.0|       1090|    6435|   1.0|         0|   0|        4|      1090|            0|    1955|        2009| 2504 SW Portland Ct|         Seattle|WA 98106|    USA|\n",
            "|2014-05-02 00:00:00|1200000.0|     5.0|     2.75|       2910|    9480|   1.5|         0|   0|        3|      2910|            0|    1939|        1969|    3534 46th Ave NE|         Seattle|WA 98105|    USA|\n",
            "|2014-05-02 00:00:00| 242500.0|     3.0|      1.5|       1200|    9720|   1.0|         0|   0|        4|      1200|            0|    1965|           0|   14034 SE 201st St|            Kent|WA 98042|    USA|\n",
            "|2014-05-02 00:00:00| 419000.0|     3.0|      1.5|       1570|    6700|   1.0|         0|   0|        4|      1570|            0|    1956|           0|     15424 SE 9th St|        Bellevue|WA 98007|    USA|\n",
            "|2014-05-02 00:00:00| 367500.0|     4.0|      3.0|       3110|    7231|   2.0|         0|   0|        3|      3110|            0|    1997|           0|   11224 SE 306th Pl|          Auburn|WA 98092|    USA|\n",
            "|2014-05-02 00:00:00| 257950.0|     3.0|     1.75|       1370|    5858|   1.0|         0|   0|        3|      1370|            0|    1987|        2000|     1605 S 245th Pl|      Des Moines|WA 98198|    USA|\n",
            "|2014-05-02 00:00:00| 275000.0|     3.0|      1.5|       1180|   10277|   1.0|         0|   0|        3|      1180|            0|    1983|        2009|  12425 415th Ave SE|      North Bend|WA 98045|    USA|\n",
            "+-------------------+---------+--------+---------+-----------+--------+------+----------+----+---------+----------+-------------+--------+------------+--------------------+----------------+--------+-------+\n",
            "only showing top 20 rows\n",
            "\n"
          ]
        }
      ]
    },
    {
      "cell_type": "code",
      "source": [
        "df.printSchema()\n",
        "\n",
        "df = df.withColumn(\"price\", F.when(F.col(\"price\") > 600000, 1).otherwise(0)\\\n",
        "                   .cast(IntegerType()))\n",
        "\n",
        "int_columns = ['bathrooms', 'bedrooms', 'sqft_living', 'sqft_lot', 'floors', \\\n",
        "               'sqft_basement']"
      ],
      "metadata": {
        "colab": {
          "base_uri": "https://localhost:8080/"
        },
        "id": "rYn0pPOMDPRF",
        "outputId": "4309f6f7-bd60-466b-c7e0-bcc99d2a1e0f"
      },
      "execution_count": null,
      "outputs": [
        {
          "output_type": "stream",
          "name": "stdout",
          "text": [
            "root\n",
            " |-- date: timestamp (nullable = true)\n",
            " |-- price: double (nullable = true)\n",
            " |-- bedrooms: double (nullable = true)\n",
            " |-- bathrooms: double (nullable = true)\n",
            " |-- sqft_living: integer (nullable = true)\n",
            " |-- sqft_lot: integer (nullable = true)\n",
            " |-- floors: double (nullable = true)\n",
            " |-- waterfront: integer (nullable = true)\n",
            " |-- view: integer (nullable = true)\n",
            " |-- condition: integer (nullable = true)\n",
            " |-- sqft_above: integer (nullable = true)\n",
            " |-- sqft_basement: integer (nullable = true)\n",
            " |-- yr_built: integer (nullable = true)\n",
            " |-- yr_renovated: integer (nullable = true)\n",
            " |-- street: string (nullable = true)\n",
            " |-- city: string (nullable = true)\n",
            " |-- statezip: string (nullable = true)\n",
            " |-- country: string (nullable = true)\n",
            "\n"
          ]
        }
      ]
    },
    {
      "cell_type": "code",
      "source": [
        "for col_name in int_columns:\n",
        "    df = df.withColumn(col_name, df[col_name].cast(IntegerType()))\n",
        "df.printSchema()"
      ],
      "metadata": {
        "colab": {
          "base_uri": "https://localhost:8080/"
        },
        "id": "YhsFlWaZDPUO",
        "outputId": "495ba89c-5e5f-4d81-da59-9da19be8d67b"
      },
      "execution_count": null,
      "outputs": [
        {
          "output_type": "stream",
          "name": "stdout",
          "text": [
            "root\n",
            " |-- date: timestamp (nullable = true)\n",
            " |-- price: integer (nullable = false)\n",
            " |-- bedrooms: integer (nullable = true)\n",
            " |-- bathrooms: integer (nullable = true)\n",
            " |-- sqft_living: integer (nullable = true)\n",
            " |-- sqft_lot: integer (nullable = true)\n",
            " |-- floors: integer (nullable = true)\n",
            " |-- waterfront: integer (nullable = true)\n",
            " |-- view: integer (nullable = true)\n",
            " |-- condition: integer (nullable = true)\n",
            " |-- sqft_above: integer (nullable = true)\n",
            " |-- sqft_basement: integer (nullable = true)\n",
            " |-- yr_built: integer (nullable = true)\n",
            " |-- yr_renovated: integer (nullable = true)\n",
            " |-- street: string (nullable = true)\n",
            " |-- city: string (nullable = true)\n",
            " |-- statezip: string (nullable = true)\n",
            " |-- country: string (nullable = true)\n",
            "\n"
          ]
        }
      ]
    },
    {
      "cell_type": "code",
      "source": [
        "df = df.withColumn(\"price\", F.when(F.col(\"price\") > 600000, 1).otherwise(0)\\\n",
        "                   .cast(IntegerType()))\n",
        "\n",
        "# Cast selected columns to IntegerType\n",
        "int_columns = ['bathrooms', 'bedrooms', 'sqft_living', 'sqft_lot', 'floors', \\\n",
        "               'sqft_basement']"
      ],
      "metadata": {
        "id": "vp54lagaDPXW"
      },
      "execution_count": null,
      "outputs": []
    },
    {
      "cell_type": "code",
      "source": [
        "for col_name in int_columns:\n",
        "    df = df.withColumn(col_name, df[col_name].cast(IntegerType()))\n",
        "df.printSchema()\n",
        "# Split data\n",
        "train_df, test_df = df.randomSplit([0.8, 0.2], seed=11)\n",
        "train_df.count()\n",
        "test_df.count()"
      ],
      "metadata": {
        "colab": {
          "base_uri": "https://localhost:8080/"
        },
        "id": "fnkSoxgoHsH8",
        "outputId": "2ea4e456-0c57-4838-97fc-1aa154731445"
      },
      "execution_count": null,
      "outputs": [
        {
          "output_type": "stream",
          "name": "stdout",
          "text": [
            "root\n",
            " |-- date: timestamp (nullable = true)\n",
            " |-- price: integer (nullable = false)\n",
            " |-- bedrooms: integer (nullable = true)\n",
            " |-- bathrooms: integer (nullable = true)\n",
            " |-- sqft_living: integer (nullable = true)\n",
            " |-- sqft_lot: integer (nullable = true)\n",
            " |-- floors: integer (nullable = true)\n",
            " |-- waterfront: integer (nullable = true)\n",
            " |-- view: integer (nullable = true)\n",
            " |-- condition: integer (nullable = true)\n",
            " |-- sqft_above: integer (nullable = true)\n",
            " |-- sqft_basement: integer (nullable = true)\n",
            " |-- yr_built: integer (nullable = true)\n",
            " |-- yr_renovated: integer (nullable = true)\n",
            " |-- street: string (nullable = true)\n",
            " |-- city: string (nullable = true)\n",
            " |-- statezip: string (nullable = true)\n",
            " |-- country: string (nullable = true)\n",
            "\n"
          ]
        },
        {
          "output_type": "execute_result",
          "data": {
            "text/plain": [
              "902"
            ]
          },
          "metadata": {},
          "execution_count": 8
        }
      ]
    },
    {
      "cell_type": "code",
      "source": [
        "price_indexer = StringIndexer(inputCol=\"price\", outputCol=\"price_index\")\n",
        "\n",
        "train_df = price_indexer.fit(train_df).transform(train_df)"
      ],
      "metadata": {
        "id": "y390oD17Hutb"
      },
      "execution_count": null,
      "outputs": []
    },
    {
      "cell_type": "code",
      "source": [
        "input_cols = ['bedrooms', 'bathrooms', 'sqft_living', 'sqft_lot', 'floors', 'sqft_basement']\n",
        "vector_assembler = VectorAssembler(inputCols=input_cols, outputCol=\"features\")\n",
        "train_df = vector_assembler.transform(train_df)\n",
        "train_df.show()"
      ],
      "metadata": {
        "colab": {
          "base_uri": "https://localhost:8080/"
        },
        "id": "YAoF17jKHxXC",
        "outputId": "37dde36e-1583-481c-979e-8c3d6662013b"
      },
      "execution_count": null,
      "outputs": [
        {
          "output_type": "stream",
          "name": "stdout",
          "text": [
            "+-------------------+-----+--------+---------+-----------+--------+------+----------+----+---------+----------+-------------+--------+------------+--------------------+-------------+--------+-------+-----------+--------------------+\n",
            "|               date|price|bedrooms|bathrooms|sqft_living|sqft_lot|floors|waterfront|view|condition|sqft_above|sqft_basement|yr_built|yr_renovated|              street|         city|statezip|country|price_index|            features|\n",
            "+-------------------+-----+--------+---------+-----------+--------+------+----------+----+---------+----------+-------------+--------+------------+--------------------+-------------+--------+-------+-----------+--------------------+\n",
            "|2014-05-02 00:00:00|    0|       2|        1|        800|    4850|     1|         0|   0|        4|       800|            0|    1944|           0|4801-4899 6th Ave NW|      Seattle|WA 98107|    USA|        0.0|[2.0,1.0,800.0,48...|\n",
            "|2014-05-02 00:00:00|    0|       2|        1|        850|    6174|     1|         0|   0|        4|       850|            0|    1950|        1983|     121 NE 147th St|    Shoreline|WA 98155|    USA|        0.0|[2.0,1.0,850.0,61...|\n",
            "|2014-05-02 00:00:00|    0|       2|        1|        880|    6380|     1|         0|   0|        3|       880|            0|    1938|        1994|      522 NE 88th St|      Seattle|WA 98115|    USA|        0.0|[2.0,1.0,880.0,63...|\n",
            "|2014-05-02 00:00:00|    0|       2|        1|       1210|    9400|     1|         0|   0|        2|      1210|            0|    1949|           0|    7542 21st Ave SW|      Seattle|WA 98106|    USA|        0.0|[2.0,1.0,1210.0,9...|\n",
            "|2014-05-02 00:00:00|    0|       2|        2|       1350|    2560|     1|         0|   0|        3|      1350|            0|    1976|           0|   2616 174th Ave NE|      Redmond|WA 98052|    USA|        0.0|[2.0,2.0,1350.0,2...|\n",
            "|2014-05-02 00:00:00|    0|       3|        1|       1160|    9180|     1|         0|   0|        3|      1160|            0|    1968|        1997|   15804 198th Pl NE|  Woodinville|WA 98077|    USA|        0.0|[3.0,1.0,1160.0,9...|\n",
            "|2014-05-02 00:00:00|    0|       3|        1|       1180|   10277|     1|         0|   0|        3|      1180|            0|    1983|        2009|  12425 415th Ave SE|   North Bend|WA 98045|    USA|        0.0|[3.0,1.0,1180.0,1...|\n",
            "|2014-05-02 00:00:00|    0|       3|        1|       1200|    9720|     1|         0|   0|        4|      1200|            0|    1965|           0|   14034 SE 201st St|         Kent|WA 98042|    USA|        0.0|[3.0,1.0,1200.0,9...|\n",
            "|2014-05-02 00:00:00|    0|       3|        1|       1340|    7912|     1|         0|   0|        3|      1340|            0|    1955|        2005|18810 Densmore Ave N|    Shoreline|WA 98133|    USA|        0.0|[3.0,1.0,1340.0,7...|\n",
            "|2014-05-02 00:00:00|    0|       3|        1|       1370|    5858|     1|         0|   0|        3|      1370|            0|    1987|        2000|     1605 S 245th Pl|   Des Moines|WA 98198|    USA|        0.0|[3.0,1.0,1370.0,5...|\n",
            "|2014-05-02 00:00:00|    0|       3|        1|       2240|   10578|     2|         0|   0|        5|      1550|          690|    1923|           0|     3225 NE 92nd St|      Seattle|WA 98115|    USA|        0.0|[3.0,1.0,2240.0,1...|\n",
            "|2014-05-02 00:00:00|    0|       3|        1|       2910|   35200|     1|         0|   0|        3|      2910|            0|    1979|        2014|    3923 229th Pl SE|    Sammamish|WA 98075|    USA|        0.0|[3.0,1.0,2910.0,3...|\n",
            "|2014-05-02 00:00:00|    0|       3|        2|       1270|    1180|     3|         0|   0|        3|      1270|            0|    2001|           0|     2640 NW 56th St|      Seattle|WA 98107|    USA|        0.0|[3.0,2.0,1270.0,1...|\n",
            "|2014-05-02 00:00:00|    0|       3|        2|       1580|   16215|     1|         0|   0|        4|      1580|            0|    1978|        2000|   4460 332nd Ave SE|    Fall City|WA 98024|    USA|        0.0|[3.0,2.0,1580.0,1...|\n",
            "|2014-05-02 00:00:00|    0|       3|        2|       1770|    1235|     3|         0|   0|        3|      1600|          170|    2007|           0|      1156 N 93rd St|      Seattle|WA 98103|    USA|        0.0|[3.0,2.0,1770.0,1...|\n",
            "|2014-05-02 00:00:00|    0|       3|        2|       1770|    2875|     2|         0|   0|        3|      1770|            0|    1990|        2009|    4458 51st Ave SW|      Seattle|WA 98116|    USA|        0.0|[3.0,2.0,1770.0,2...|\n",
            "|2014-05-02 00:00:00|    0|       3|        2|       1930|   10460|     2|         0|   0|        3|      1930|            0|    1996|           0|      4314 NE 6th Pl|       Renton|WA 98059|    USA|        0.0|[3.0,2.0,1930.0,1...|\n",
            "|2014-05-02 00:00:00|    0|       3|        2|       1930|   11947|     1|         0|   0|        4|      1930|            0|    1966|           0|26206-26214 143rd...|         Kent|WA 98042|    USA|        0.0|[3.0,2.0,1930.0,1...|\n",
            "|2014-05-02 00:00:00|    0|       3|        2|       1960|   13100|     1|         0|   2|        5|      1650|          310|    1957|           0|    17825 4th Ave SW|Normandy Park|WA 98166|    USA|        0.0|[3.0,2.0,1960.0,1...|\n",
            "|2014-05-02 00:00:00|    0|       3|        2|       2000|    8030|     1|         0|   0|        4|      1000|         1000|    1963|           0|     857 170th Pl NE|     Bellevue|WA 98008|    USA|        0.0|[3.0,2.0,2000.0,8...|\n",
            "+-------------------+-----+--------+---------+-----------+--------+------+----------+----+---------+----------+-------------+--------+------------+--------------------+-------------+--------+-------+-----------+--------------------+\n",
            "only showing top 20 rows\n",
            "\n"
          ]
        }
      ]
    },
    {
      "cell_type": "code",
      "source": [
        "dt_model = DecisionTreeClassifier(labelCol=\"price_index\", featuresCol=\"features\")\n",
        "dt_model = dt_model.fit(train_df)"
      ],
      "metadata": {
        "id": "89_rWkoYHz8y"
      },
      "execution_count": null,
      "outputs": []
    },
    {
      "cell_type": "code",
      "source": [
        "evaluator = MulticlassClassificationEvaluator(labelCol=\"price_index\")\n",
        "\n",
        "# Transform and predict on test data\n",
        "test_df = test_df.withColumn(\"price\", F.when(F.col(\"price\") > 600000, 1).otherwise(0).cast(IntegerType()))\n",
        "test_df = price_indexer.fit(test_df).transform(test_df)\n",
        "test_df = vector_assembler.transform(test_df)\n",
        "test_predictions = dt_model.transform(test_df)"
      ],
      "metadata": {
        "id": "4RpXJDMiH21z"
      },
      "execution_count": null,
      "outputs": []
    },
    {
      "cell_type": "code",
      "source": [
        "accuracy = evaluator.evaluate(test_predictions)\n",
        "print(f\"Area under ROC curve: {accuracy}\")"
      ],
      "metadata": {
        "colab": {
          "base_uri": "https://localhost:8080/"
        },
        "id": "nGqyI-IxH5AS",
        "outputId": "c08799d4-70ca-4008-bba7-60b50448aabd"
      },
      "execution_count": null,
      "outputs": [
        {
          "output_type": "stream",
          "name": "stdout",
          "text": [
            "Area under ROC curve: 1.0\n"
          ]
        }
      ]
    },
    {
      "cell_type": "code",
      "source": [],
      "metadata": {
        "id": "hMRWNXqkH6w6"
      },
      "execution_count": null,
      "outputs": []
    }
  ]
}